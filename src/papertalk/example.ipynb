{
 "cells": [
  {
   "cell_type": "code",
   "execution_count": null,
   "metadata": {},
   "outputs": [],
   "source": [
    "%load_ext autoreload\n",
    "%autoreload 2\n",
    "\n",
    "from papertalk.semantic_scholar import SemanticScholar\n",
    "from papertalk.paper_parser import (\n",
    "    PaperDownloader, \n",
    "    ReferenceParser, \n",
    "    InTextReferenceParser, \n",
    "    merge_all_references\n",
    ")\n",
    "from papertalk.rag import (\n",
    "    PaperVectorStore,\n",
    "    AdvancedRAG,\n",
    "    PaperSummarizer,\n",
    "    PaperRelevance\n",
    ")"
   ]
  },
  {
   "cell_type": "code",
   "execution_count": null,
   "metadata": {},
   "outputs": [],
   "source": [
    "arxiv_id = \"2201.03540\"\n",
    "\n",
    "# Download the paper\n",
    "downloader = PaperDownloader()\n",
    "files = downloader.download_source(arxiv_id)\n",
    "\n",
    "# Get references from Semantic Scholar\n",
    "ss = SemanticScholar()\n",
    "paper = ss.get_paper_with_references(\"Erasure conversion for fault tolerant quantum computing in alkaline earth Rydberg atom arrays\")\n",
    "semantic_scholar_references = paper.references\n",
    "\n",
    "# Parse the references\n",
    "parser = ReferenceParser()\n",
    "bibtex_references = parser.extract_references(files)\n",
    "in_text_reference_parser = InTextReferenceParser(context_window=3)  # Get 2 sentences before and after\n",
    "in_text_references = in_text_reference_parser.parse_references(files)\n",
    "semantic_scholar_papers = paper.references\n",
    "comprehensive_refs = merge_all_references(\n",
    "    bibtex_references=bibtex_references,\n",
    "    semantic_scholar_papers=semantic_scholar_papers,\n",
    "    in_text_references=in_text_references,\n",
    "    require_all_sources=True)\n",
    "\n",
    "# Summarize the paper\n",
    "summarizer = PaperSummarizer()\n",
    "summary = summarizer.summarize(files)\n",
    "\n",
    "# Initialize vector store\n",
    "vectorstore = PaperVectorStore()\n",
    "vectorstore.build_index([ref.semantic_scholar_paper for ref in comprehensive_refs])"
   ]
  },
  {
   "cell_type": "code",
   "execution_count": null,
   "metadata": {},
   "outputs": [],
   "source": [
    "rag = AdvancedRAG(vectorstore)\n",
    "query = f\"{summary.main_points[0]} {summary.methodology}\"\n",
    "similar_papers = rag.find_similar_papers(query)"
   ]
  },
  {
   "cell_type": "code",
   "execution_count": null,
   "metadata": {},
   "outputs": [],
   "source": [
    "relevance_analyzer = PaperRelevance()\n",
    "citation_analysis = relevance_analyzer.analyze_citations(\n",
    "    original_paper_summary=summary,\n",
    "    reference=comprehensive_refs[0]\n",
    ")"
   ]
  }
 ],
 "metadata": {
  "kernelspec": {
   "display_name": ".venv",
   "language": "python",
   "name": "python3"
  },
  "language_info": {
   "codemirror_mode": {
    "name": "ipython",
    "version": 3
   },
   "file_extension": ".py",
   "mimetype": "text/x-python",
   "name": "python",
   "nbconvert_exporter": "python",
   "pygments_lexer": "ipython3",
   "version": "3.11.10"
  }
 },
 "nbformat": 4,
 "nbformat_minor": 2
}
